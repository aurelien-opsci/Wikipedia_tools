{
 "cells": [
  {
   "cell_type": "code",
   "execution_count": 1,
   "id": "7342c119",
   "metadata": {},
   "outputs": [],
   "source": [
    "import json\n",
    "import requests\n",
    "\n"
   ]
  },
  {
   "cell_type": "code",
   "execution_count": null,
   "id": "fbc22d34",
   "metadata": {},
   "outputs": [],
   "source": [
    "# --- 1. Paramètres utilisateur ---\n",
    "article = \"Marine Le Pen\"  \n",
    "lang    = \"fr\"               \n"
   ]
  },
  {
   "cell_type": "code",
   "execution_count": null,
   "id": "e0781179",
   "metadata": {},
   "outputs": [
    {
     "name": "stdout",
     "output_type": "stream",
     "text": [
      "Page : {'pageid': 86757, 'ns': 0, 'title': 'Marine Le Pen', 'revisions': [{'revid': 225312137, 'parentid': 225245649}]}\n",
      "Dernier rev_id pour « Marine Le Pen » : 225312137\n"
     ]
    }
   ],
   "source": [
    "\n",
    "# --- 2. Récupérer le rev_id de la dernière révision ---\n",
    "page_api_url = f'https://{lang}.wikipedia.org/w/api.php'\n",
    "params = {\n",
    "    'action': 'query',\n",
    "    'format': 'json',\n",
    "    'titles': article,\n",
    "    'prop': 'revisions',\n",
    "    'rvprop': 'ids',\n",
    "    'rvlimit': 1\n",
    "}\n",
    "resp = requests.get(page_api_url, params=params)\n",
    "resp.raise_for_status()\n",
    "data = resp.json()\n",
    "\n",
    "pages = data.get('query', {}).get('pages', {})\n",
    "page = next(iter(pages.values()))\n",
    "\n",
    "if 'missing' in page:\n",
    "    raise ValueError(f\"L’article « {article} » n’existe pas sur {lang}.wikipedia.org\")\n",
    "\n",
    "rev_id = page['revisions'][0]['revid']\n",
    "print(f\"Dernier rev_id pour « {article} » : {rev_id}\")\n"
   ]
  },
  {
   "cell_type": "code",
   "execution_count": 4,
   "id": "548d1a58",
   "metadata": {},
   "outputs": [],
   "source": [
    "\n",
    "# --- 3. Appel au modèle de lisibilité ---\n",
    "inference_url = 'https://api.wikimedia.org/service/lw/inference/v1/models/readability:predict'\n",
    "headers = {\n",
    "    'Content-Type': 'application/json',\n",
    "    'User-Agent': 'VOTRE_APP (VOTRE_CONTACT)',\n",
    "}\n",
    "payload = {\"rev_id\": rev_id, \"lang\": lang}\n",
    "\n",
    "response = requests.post(inference_url, headers=headers, data=json.dumps(payload))\n",
    "response.raise_for_status()\n",
    "full = response.json()\n"
   ]
  },
  {
   "cell_type": "code",
   "execution_count": 5,
   "id": "51dd74b8",
   "metadata": {},
   "outputs": [],
   "source": [
    "\n",
    "\n",
    "# --- 4. Extraction des scores ---\n",
    "output = full.get(\"output\", {})\n",
    "score = output.get(\"score\")\n",
    "fk_proxy = output.get(\"fk_score_proxy\")\n"
   ]
  },
  {
   "cell_type": "code",
   "execution_count": 6,
   "id": "8da2c09e",
   "metadata": {},
   "outputs": [
    {
     "name": "stdout",
     "output_type": "stream",
     "text": [
      "{\n",
      "  \"rev_id\": 225312137,\n",
      "  \"title\": \"Marine Le Pen\",\n",
      "  \"readability_score\": 5.021496295928955,\n",
      "  \"fk_score_proxy\": 12.98340615510051\n",
      "}\n"
     ]
    }
   ],
   "source": [
    "\n",
    "# --- 5. Construction et affichage du résultat final ---\n",
    "result = {\n",
    "    \"rev_id\": rev_id,\n",
    "    \"title\": article,\n",
    "    \"readability_score\": score,\n",
    "    \"fk_score_proxy\": fk_proxy\n",
    "}\n",
    "\n",
    "print(json.dumps(result, indent=2))\n"
   ]
  }
 ],
 "metadata": {
  "kernelspec": {
   "display_name": "mon_env",
   "language": "python",
   "name": "python3"
  },
  "language_info": {
   "codemirror_mode": {
    "name": "ipython",
    "version": 3
   },
   "file_extension": ".py",
   "mimetype": "text/x-python",
   "name": "python",
   "nbconvert_exporter": "python",
   "pygments_lexer": "ipython3",
   "version": "3.12.3"
  }
 },
 "nbformat": 4,
 "nbformat_minor": 5
}
