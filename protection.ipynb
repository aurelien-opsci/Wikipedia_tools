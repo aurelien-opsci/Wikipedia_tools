{
 "cells": [
  {
   "cell_type": "code",
   "execution_count": 1,
   "id": "a1881324",
   "metadata": {},
   "outputs": [],
   "source": [
    "import requests\n",
    "from datetime import datetime, timezone\n"
   ]
  },
  {
   "cell_type": "code",
   "execution_count": 2,
   "id": "fe6e2d57",
   "metadata": {},
   "outputs": [],
   "source": [
    "\n",
    "\n",
    "API_URL = \"https://fr.wikipedia.org/w/api.php\"\n",
    "session = requests.Session()\n",
    "session.headers.update({\n",
    "    \"User-Agent\": \"Mozilla/5.0 (https://github.com/aureliusLF; alefichoux@gmail.com)\"\n",
    "})\n",
    "\n"
   ]
  },
  {
   "cell_type": "code",
   "execution_count": 5,
   "id": "0f6ff1b7",
   "metadata": {},
   "outputs": [],
   "source": [
    "\n",
    "# 1. Liste des pages à interroger\n",
    "titles = [\"Emmanuel Macron\", \"Tour de France\", \"Python (langage)\"]\n",
    "\n",
    "# 2. Construction du paramètre \"titles\" avec une seule requête\n",
    "params = {\n",
    "    \"action\": \"query\",\n",
    "    \"format\": \"json\",\n",
    "    \"prop\": \"info|extracts\",\n",
    "    \"inprop\": \"protection\",\n",
    "    \"titles\": \"|\".join(titles),     \n",
    "    \"exintro\": True,\n",
    "    \"explaintext\": True\n",
    "}\n",
    "\n",
    "response = session.get(API_URL, params=params)\n",
    "response.raise_for_status()\n",
    "data = response.json()\n",
    "\n"
   ]
  },
  {
   "cell_type": "code",
   "execution_count": 6,
   "id": "0d533bfa",
   "metadata": {},
   "outputs": [
    {
     "name": "stdout",
     "output_type": "stream",
     "text": [
      "\n",
      "=== Emmanuel Macron ===\n",
      "\n",
      "Introduction :\n",
      "Emmanuel Macron ([ɛmanɥɛl makʁɔ̃] ), né le 21 décembre 1977 à Amiens dans la Somme, est un haut fonctionnaire, banquier d'affaires et homme d'État français. Il est président de la République française depuis le 14 mai 2017.\n",
      "Sorti de l'École nationale d'administration en 2004, il devient inspecteur des finances. En 2007, il est nommé rapporteur adjoint de la commission pour la libération de la croissance française (« commission Attali »). L'année suivante, il rejoint la banque d'affaires Rothschild & Cie, dont il devient associé-gérant en 2010.\n",
      "Proche du Mouvement des citoyens puis du Parti socialiste de 2006 à 2009, il participe à la campagne électorale de François Hollande pour l'élection présidentielle de 2012, qui le nomme après sa victoire secrétaire général adjoint de son cabinet. En 2014, alors encore inconnu du grand public, mais réputé pour sa ligne sociale-libérale, Emmanuel Macron est nommé ministre de l'Économie, de l'Industrie et du Numérique ; en 2015, il fait adopter une loi pour la croissance, l'activité et l'égalité des chances économiques, dite « loi Macron ». Sa notoriété s'accroît alors qu'il prend progressivement ses distances avec François Hollande.\n",
      "En 2016, il fonde et prend la présidence de son propre mouvement politique, En Marche ! (EM !), et démissionne du second gouvernement Manuel Valls. Il adopte un positionnement qu’il présente en dehors du clivage gauche-droite et se présente à l'élection présidentielle de 2017. Il l'emporte au second tour, bénéficiant d'un « front républicain » face à la candidate du Front national, Marine Le Pen. À 39 ans, il devient le plus jeune président français de l'histoire et le plus jeune dirigeant du G20 du moment.\n",
      "Son premier mandat est marqué par une réforme du Code du travail, une loi de réforme de la SNCF, l'affaire Benalla, l'affaire McKinsey, la révélation de conflits d'intérêts via les Uber Files, le mouvement des Gilets jaunes et le grand débat national qui s'ensuit, ainsi que par un premier projet contesté de réforme des retraites, la mise en place d'une convention citoyenne pour le climat, la pandémie de Covid-19, puis la crise provoquée par l'invasion de l'Ukraine par la Russie alors que commence la présidence française du Conseil de l'Union européenne.\n",
      "Candidat à sa réélection lors de l'élection présidentielle de 2022, il affronte une nouvelle fois au second tour Marine Le Pen, face à qui il l'emporte grâce à un nouveau barrage républicain, toutefois plus faible que lors de leur précédent duel. Son second mandat commence par l'obtention d'une majorité relative aux élections législatives, une crise énergétique mondiale liée à l'invasion de l'Ukraine par la Russie, une réforme des retraites reculant notamment l'âge du départ à 64 ans, adoptée sans vote de l'Assemblée nationale et fortement contestée, des émeutes urbaines à l'été 2023 ainsi que le vote controversé d'une loi immigration avec le soutien du Rassemblement national fin 2023.\n",
      "À la suite des résultats des élections européennes en juin 2024 qui marquent une victoire historique du Rassemblement national, il décide de dissoudre l'Assemblée nationale, déclenchant des élections législatives anticipées. Il perd à cette occasion la majorité relative au profit du Nouveau Front populaire, qu'il refuse d'appeler à former un gouvernement minoritaire, provoquant une crise politique inédite sous la Cinquième République. Il s'accorde avec Les Républicains pour former un éphémère gouvernement dirigé par Michel Barnier, qui est renversé par la motion de censure du 4 décembre 2024, avant de nommer François Bayrou. \n",
      "\n",
      "🔒 Protections actives :\n",
      " • Pour modifier, niveau requis « autoconfirmed », jusqu'au 31 December 2027 à 23:00 UTC.\n",
      " • Pour déplacer, niveau requis « sysop », jusqu'au indéfiniment.\n",
      "\n",
      "=== Python (langage) ===\n",
      "\n",
      "Introduction :\n",
      "Python (prononcé /pi.tɔ̃/) est un langage de programmation interprété, multiparadigme et multiplateformes. Il favorise la programmation impérative structurée, fonctionnelle et orientée objet. Il est doté d'un typage dynamique fort, d'une gestion automatique de la mémoire par ramasse-miettes et d'un système de gestion d'exceptions ; il est ainsi similaire à Perl, Ruby, Scheme, Smalltalk et Tcl.\n",
      "Le langage Python est placé sous une licence libre proche de la licence BSD et fonctionne sur la plupart des plateformes informatiques, des smartphones aux ordinateurs centraux, de Windows à Unix avec notamment GNU/Linux en passant par macOS, ou encore Android, iOS, et peut aussi être traduit en Java ou .NET. Il est conçu pour optimiser la productivité des programmeurs en offrant des outils de haut niveau et une syntaxe simple à utiliser.\n",
      "Il est également apprécié par certains pédagogues qui y trouvent un langage où la syntaxe, clairement séparée des mécanismes de bas niveau, permet une initiation aisée aux concepts de base de la programmation. Selon l'Index TIOBE, notamment en raison de son efficacité pour l'apprentissage automatique, sa popularité va croissante ; et en 2022 n'a toujours pas montré de signe de ralentissement. \n",
      "\n",
      "🔓 Cette page n'est pas protégée.\n",
      "\n",
      "=== Tour de France ===\n",
      "\n",
      "Introduction :\n",
      "Le Tour de France est une compétition cycliste par étapes masculine qui traverse la France avec des incursions occasionnelles dans les pays voisins. Sa première édition a lieu en 1903 pour augmenter les ventes du journal L'Auto, organisée par Henri Desgrange et Géo Lefèvre. Depuis, la course devient annuelle et a donc lieu chaque année, excepté lors des deux guerres mondiales. Souvent appelé « le Tour » tout court, ou « la Grande Boucle », il gagne en importance et en popularité au fil des éditions ; la participation s'élargit, on passe d'un peloton principalement français les premières années, à des éditions comptant jusqu'à 40 nationalités, sa durée est allongée et sa portée s'étend dans le monde entier. Diffusé à la télévision dans 190 pays, le Tour de France est le 3e événement sportif le plus regardé, derrière les Jeux olympiques d'été et la Coupe du monde de football, mais contrairement à ces deux événements organisés tous les quatre ans, le Tour de France a lieu chaque année. Il est actuellement organisé par ASO (Groupe Amaury).\n",
      "Le Tour de France, le Tour d'Italie et le Tour d'Espagne constituent les trois grands tours. Le Tour de France est le plus ancien, il est considéré comme le plus prestigieux des trois et comme la plus grande course cycliste du monde. Traditionnellement, la course se déroule principalement au mois de juillet. Bien que le parcours change chaque année, le format de la course reste le même avec au moins deux contre-la-montre, le passage à travers les chaînes de montagnes des Pyrénées et des Alpes et l'arrivée sur les Champs-Élysées à Paris. Les éditions modernes du Tour de France se composent de 21 étapes et de 2 jours de repos, le tout réparti sur une période de 23 jours et couvrant près de 3 500 kilomètres.\n",
      "Le Tour est une des épreuves de l'UCI World Tour, et en est la seule course de catégorie 1, ce qui signifie que les équipes sont en majorité composées d'UCI WorldTeams, à l'exception des équipes que les organisateurs invitent. Le nombre d'équipes varie habituellement entre 20 et 22 et sont chacune composées de huit coureurs. Après chaque étape, les temps des coureurs sont ajoutés avec leurs temps précédents. Le coureur avec le temps total le plus faible est classé premier du classement général et porte le très convoité maillot jaune le distinguant des autres coureurs. Le classement général est le plus réputé des classements car il détermine le vainqueur du Tour, mais d'autres classements secondaires sont organisés lors du Tour : le classement par points pour les sprinteurs, le classement de la montagne pour les grimpeurs, le classement des jeunes pour les coureurs de 25 ans et moins, et le classement par équipes pour les équipes les plus rapides à l'arrivée des Champs-Élysées.\n",
      "Quatre coureurs ont remporté cinq fois le Tour de France : Jacques Anquetil, Eddy Merckx, Bernard Hinault et Miguel Indurain. \n",
      "\n",
      "🔓 Cette page n'est pas protégée.\n"
     ]
    }
   ],
   "source": [
    "\n",
    "\n",
    "if \"error\" in data:\n",
    "    print(\"Error:\", data[\"error\"][\"info\"])\n",
    "else:\n",
    "    pages = data[\"query\"][\"pages\"]\n",
    "    # 3. Parcours de chaque page retournée\n",
    "    for page in pages.values():\n",
    "        print(\"\\n===\", page.get(\"title\", \"(sans titre)\"), \"===\")\n",
    "        print(\"\\nIntroduction :\")\n",
    "        print(page.get(\"extract\", \"(pas d’extrait)\"), \"\\n\")\n",
    "\n",
    "        protections = page.get(\"protection\", [])\n",
    "        if not protections:\n",
    "            print(\"🔓 Cette page n'est pas protégée.\")\n",
    "        else:\n",
    "            print(\"🔒 Protections actives :\")\n",
    "            for prot in protections:\n",
    "                if prot[\"expiry\"] == \"infinity\":\n",
    "                    expiry_str = \"indéfiniment\"\n",
    "                else:\n",
    "                    dt = datetime.fromisoformat(prot[\"expiry\"].replace(\"Z\", \"+00:00\"))\n",
    "                    expiry_str = dt.astimezone(timezone.utc).strftime(\"%d %B %Y à %H:%M UTC\")\n",
    "                action = \"modifier\" if prot[\"type\"] == \"edit\" else \"déplacer\"\n",
    "                print(f\" • Pour {action}, niveau requis « {prot['level']} », jusqu'au {expiry_str}.\")\n",
    "\n",
    "\n"
   ]
  }
 ],
 "metadata": {
  "kernelspec": {
   "display_name": "mon_env",
   "language": "python",
   "name": "python3"
  },
  "language_info": {
   "codemirror_mode": {
    "name": "ipython",
    "version": 3
   },
   "file_extension": ".py",
   "mimetype": "text/x-python",
   "name": "python",
   "nbconvert_exporter": "python",
   "pygments_lexer": "ipython3",
   "version": "3.12.3"
  }
 },
 "nbformat": 4,
 "nbformat_minor": 5
}
