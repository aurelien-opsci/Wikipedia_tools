{
 "cells": [
  {
   "cell_type": "code",
   "execution_count": 1,
   "id": "09fc5442",
   "metadata": {},
   "outputs": [],
   "source": [
    "import requests\n",
    "import mwparserfromhell\n"
   ]
  },
  {
   "cell_type": "code",
   "execution_count": 2,
   "id": "94ee1e6f",
   "metadata": {},
   "outputs": [],
   "source": [
    "\n",
    "API_URL    = \"https://fr.wikipedia.org/w/api.php\"\n",
    "USER_AGENT = \"CitationStatsBot/1.0 (mailto:ton.email@example.com)\"\n",
    "\n"
   ]
  },
  {
   "cell_type": "code",
   "execution_count": 3,
   "id": "7307acff",
   "metadata": {},
   "outputs": [],
   "source": [
    "\n",
    "def citation_stats_with_mwpfh(page_title: str):\n",
    "    # 1) Récupère le wikitexte\n",
    "    session = requests.Session()\n",
    "    session.headers.update({\"User-Agent\": USER_AGENT})\n",
    "    params = {\n",
    "        \"action\":  \"query\",\n",
    "        \"format\":  \"json\",\n",
    "        \"prop\":    \"revisions\",\n",
    "        \"rvprop\":  \"content\",\n",
    "        \"rvslots\": \"main\",\n",
    "        \"titles\":  page_title\n",
    "    }\n",
    "    resp = session.get(API_URL, params=params)\n",
    "    resp.raise_for_status()\n",
    "    pages = resp.json()[\"query\"][\"pages\"]\n",
    "    wikitext = next(iter(pages.values()))[\"revisions\"][0][\"slots\"][\"main\"][\"*\"]\n",
    "    \n",
    "    # 2) Parse avec mwparserfromhell\n",
    "    wikicode = mwparserfromhell.parse(wikitext)\n",
    "    \n",
    "    # 3) Compte des templates non sourcés, incluant {{refnec}}\n",
    "    cn_templates = {\n",
    "        \"référence nécessaire\",\n",
    "        \"source nécessaire\",\n",
    "        \"refnec\"                # ajout du template court\n",
    "    }\n",
    "    cn_count = 0\n",
    "    for tpl in wikicode.filter_templates():\n",
    "        name = tpl.name.strip().lower()\n",
    "        if name in cn_templates:\n",
    "            cn_count += 1\n",
    "    \n",
    "    # 4) Compte des balises <ref>…</ref>\n",
    "    ref_count = len(wikicode.filter_tags(matches=lambda node: node.tag == \"ref\"))\n",
    "    \n",
    "    # 5) Calcul de la proportion\n",
    "    pct = (cn_count / ref_count * 100) if ref_count else 0.0\n",
    "    \n",
    "    return {\n",
    "        \"page\":            page_title,\n",
    "        \"citation_needed\": cn_count,\n",
    "        \"references\":      ref_count,\n",
    "        \"percent_cn\":      pct\n",
    "    }\n"
   ]
  },
  {
   "cell_type": "code",
   "execution_count": 4,
   "id": "342d466b",
   "metadata": {},
   "outputs": [
    {
     "name": "stdout",
     "output_type": "stream",
     "text": [
      "Page : Sécession\n",
      "• Passages non sourcés (templates) : 2\n",
      "• Balises <ref> (références)        : 3\n",
      "→ 66.7% de passages sans source\n"
     ]
    }
   ],
   "source": [
    "\n",
    "if __name__ == \"__main__\":\n",
    "    page  = \"Sécession\"\n",
    "    stats = citation_stats_with_mwpfh(page)\n",
    "    print(f\"Page : {stats['page']}\")\n",
    "    print(f\"• Passages non sourcés (templates) : {stats['citation_needed']}\")\n",
    "    print(f\"• Balises <ref> (références)        : {stats['references']}\")\n",
    "    print(f\"→ {stats['percent_cn']:.1f}% de passages sans source\")\n",
    "\n",
    "\n"
   ]
  }
 ],
 "metadata": {
  "kernelspec": {
   "display_name": "mon_env",
   "language": "python",
   "name": "python3"
  },
  "language_info": {
   "codemirror_mode": {
    "name": "ipython",
    "version": 3
   },
   "file_extension": ".py",
   "mimetype": "text/x-python",
   "name": "python",
   "nbconvert_exporter": "python",
   "pygments_lexer": "ipython3",
   "version": "3.12.3"
  }
 },
 "nbformat": 4,
 "nbformat_minor": 5
}
